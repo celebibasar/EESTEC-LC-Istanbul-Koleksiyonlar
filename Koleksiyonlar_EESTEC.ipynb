{
  "nbformat": 4,
  "nbformat_minor": 0,
  "metadata": {
    "colab": {
      "name": "Koleksiyonlar_EESTEC.ipynb",
      "provenance": [],
      "collapsed_sections": []
    },
    "kernelspec": {
      "name": "python3",
      "display_name": "Python 3"
    },
    "language_info": {
      "name": "python"
    }
  },
  "cells": [
    {
      "cell_type": "markdown",
      "source": [
        "**Koleksiyonlar**\n",
        "\n",
        "Koleksiyon veri tipleri birçok değişkeni bir arada tutmayı sağlar. 4 çeşit koleksiyon veri tipi vardır.\n",
        "\n",
        "*  List: \n",
        "*  Tuples\n",
        "*  Set\n",
        "*  Dictionary\n",
        "\n",
        "\n",
        "\n"
      ],
      "metadata": {
        "id": "pvPzSkZp31ab"
      }
    },
    {
      "cell_type": "markdown",
      "source": [
        "**List** \n",
        "\n",
        "*   Sıralanabilir ve değiştirilebilir koleksiyon veri tipidir. Liste içerisinde aynı elemandan birden fazla bulundurabiliriz. Bu özellik Duplicate olarak adlandırılır.\n",
        "\n",
        "*   Diğer dillerden farklı olarak Python'da, aynı listede farklı veri tipleri bulunabilir.\n",
        "\n",
        "*   Liste yapmak için köşeli parantez yani \"[sayi1, sayi2, ...]\" kullanırız.\n",
        "\n",
        "*   Listelerin içindeki verilere, tıpkı string indexlemede yaptığımız gibi listede de indexleme yaparak [0] ulaşabiliriz.\n",
        "\n",
        "\n",
        "\n",
        "\n"
      ],
      "metadata": {
        "id": "y8j7Xnoa5N8l"
      }
    },
    {
      "cell_type": "code",
      "execution_count": null,
      "metadata": {
        "colab": {
          "base_uri": "https://localhost:8080/"
        },
        "id": "IXcxKPAa30ue",
        "outputId": "a6a77601-6566-4cf2-e1f3-d0bcb11334f8"
      },
      "outputs": [
        {
          "output_type": "stream",
          "name": "stdout",
          "text": [
            "['Başar', 'Yağız', 'Talha', 'Efe', 'Ömer']\n"
          ]
        }
      ],
      "source": [
        "list = [\"Başar\", \"Yağız\", \"Talha\", \"Efe\", \"Ömer\"]\n",
        "print(list)"
      ]
    },
    {
      "cell_type": "markdown",
      "source": [
        "**Listede Indexleme Nasıl Yapılır ?**"
      ],
      "metadata": {
        "id": "lef-bZtf7JaH"
      }
    },
    {
      "cell_type": "code",
      "source": [
        "list_eestec = [\"Kayra\", \"Başar\", \"Yağız\", \"Talha\", \"Efe\", \"Ömer\", \"1\", \"2\", \"3\"]\n",
        "print(list_eestec[0])\n",
        "\n",
        "print(list_eestec[1])"
      ],
      "metadata": {
        "colab": {
          "base_uri": "https://localhost:8080/"
        },
        "id": "LZ6FwF6L7JAw",
        "outputId": "0c1f78ac-3a49-401b-831d-ea870678a8fc"
      },
      "execution_count": null,
      "outputs": [
        {
          "output_type": "stream",
          "name": "stdout",
          "text": [
            "Kayra\n",
            "Başar\n"
          ]
        }
      ]
    },
    {
      "cell_type": "markdown",
      "source": [
        "**Listenin son index'i -1'den başlar ve listenin ilk elemanına doğru azalarak devam eder**"
      ],
      "metadata": {
        "id": "zxqu8fF37g_v"
      }
    },
    {
      "cell_type": "code",
      "source": [
        "\n",
        "print(list_eestec[-1]) # -1 index'i listenin son elemanını temsil eder.\n",
        "\n",
        "print(list_eestec[-3]) "
      ],
      "metadata": {
        "colab": {
          "base_uri": "https://localhost:8080/"
        },
        "id": "b5dy_6LM7jyx",
        "outputId": "16e0c7f9-507d-4734-a807-5fb37fc4bcd5"
      },
      "execution_count": null,
      "outputs": [
        {
          "output_type": "stream",
          "name": "stdout",
          "text": [
            "3\n",
            "1\n"
          ]
        }
      ]
    },
    {
      "cell_type": "markdown",
      "source": [
        ""
      ],
      "metadata": {
        "id": "xZj3ZIcc-Xpt"
      }
    },
    {
      "cell_type": "code",
      "source": [
        "list_eestec[1:4]"
      ],
      "metadata": {
        "colab": {
          "base_uri": "https://localhost:8080/"
        },
        "id": "oR9YNRYM-YAw",
        "outputId": "a7abcca5-fbd7-47aa-8c3c-a458a1e618e4"
      },
      "execution_count": null,
      "outputs": [
        {
          "output_type": "execute_result",
          "data": {
            "text/plain": [
              "['Başar', 'Yağız', 'Talha']"
            ]
          },
          "metadata": {},
          "execution_count": 6
        }
      ]
    },
    {
      "cell_type": "markdown",
      "source": [
        "**Listeler değiştirilebilir olduğundan dolayı içindeki verileri rahatlıkla değiştirebiliriz. Bu, listelerin mutable olmasından dolayıdır.**\n"
      ],
      "metadata": {
        "id": "eDAqrKYE8lEs"
      }
    },
    {
      "cell_type": "code",
      "source": [
        "list_eestec[0] = \"Ahmet\"\n",
        "list_eestec"
      ],
      "metadata": {
        "id": "lobQXC2N9PYl",
        "colab": {
          "base_uri": "https://localhost:8080/"
        },
        "outputId": "1c48462f-e3d2-42e5-fdf4-fc362608edfe"
      },
      "execution_count": null,
      "outputs": [
        {
          "output_type": "execute_result",
          "data": {
            "text/plain": [
              "['Ahmet', 'Başar', 'Yağız', 'Talha', 'Efe', 'Ömer', 1, 2, 3]"
            ]
          },
          "metadata": {},
          "execution_count": 7
        }
      ]
    },
    {
      "cell_type": "markdown",
      "source": [
        "**Listelerde birden çok elemanı da değiştirebiliriz.**"
      ],
      "metadata": {
        "id": "zM2PbIEi9-tM"
      }
    },
    {
      "cell_type": "code",
      "source": [
        "list_eestec[1:4] = \"EESTEC\", \"LC\", \"Istanbul\"\n",
        "list_eestec"
      ],
      "metadata": {
        "colab": {
          "base_uri": "https://localhost:8080/"
        },
        "id": "wi4t3rgy-Ci5",
        "outputId": "48f2881a-51a2-4057-d0d8-9a42beecad0f"
      },
      "execution_count": null,
      "outputs": [
        {
          "output_type": "execute_result",
          "data": {
            "text/plain": [
              "['Ahmet', 'EESTEC', 'LC', 'Istanbul', 'Efe', 'Ömer', 1, 2, 3]"
            ]
          },
          "metadata": {},
          "execution_count": 8
        }
      ]
    },
    {
      "cell_type": "markdown",
      "source": [
        "**Len() komutu listede kaç eleman olduğunu gösterir.**"
      ],
      "metadata": {
        "id": "3Ma9KODV_McM"
      }
    },
    {
      "cell_type": "code",
      "source": [
        "len(list_eestec)"
      ],
      "metadata": {
        "colab": {
          "base_uri": "https://localhost:8080/"
        },
        "id": "4S_lhj_Z9uRF",
        "outputId": "91e0037c-8051-43d2-f15c-447b840d29e8"
      },
      "execution_count": null,
      "outputs": [
        {
          "output_type": "execute_result",
          "data": {
            "text/plain": [
              "9"
            ]
          },
          "metadata": {},
          "execution_count": 9
        }
      ]
    },
    {
      "cell_type": "markdown",
      "source": [
        "**Listenin sonuna eleman eklemek için .append() komutunu kullanırız.**"
      ],
      "metadata": {
        "id": "RzPJnfET_JC8"
      }
    },
    {
      "cell_type": "code",
      "source": [
        "list_eestec"
      ],
      "metadata": {
        "colab": {
          "base_uri": "https://localhost:8080/"
        },
        "id": "6XQx3TWf-HWT",
        "outputId": "1ed1fecb-03a0-4cef-85dd-6063ed857092"
      },
      "execution_count": null,
      "outputs": [
        {
          "output_type": "execute_result",
          "data": {
            "text/plain": [
              "['Kayra', 'Başar', 'Yağız', 'Talha', 'Efe', 'Ömer', 1, 2, 3]"
            ]
          },
          "metadata": {},
          "execution_count": 13
        }
      ]
    },
    {
      "cell_type": "code",
      "source": [
        "list_eestec.append(1773)\n",
        "\n",
        "list_eestec"
      ],
      "metadata": {
        "colab": {
          "base_uri": "https://localhost:8080/"
        },
        "id": "6mUs0Mgc-afE",
        "outputId": "b5a1f3bf-6199-4ddb-954d-6d79a2af4946"
      },
      "execution_count": null,
      "outputs": [
        {
          "output_type": "execute_result",
          "data": {
            "text/plain": [
              "['Kayra', 'Başar', 'Yağız', 'Talha', 'Efe', 'Ömer', 1, 2, 3, 1773]"
            ]
          },
          "metadata": {},
          "execution_count": 17
        }
      ]
    },
    {
      "cell_type": "markdown",
      "source": [
        "**Listenin sonuna birden çok eleman eklemek için .extend() komutunu kullanırız**"
      ],
      "metadata": {
        "id": "uFG-M9Qy-n-P"
      }
    },
    {
      "cell_type": "code",
      "source": [
        "list_eestec"
      ],
      "metadata": {
        "colab": {
          "base_uri": "https://localhost:8080/"
        },
        "id": "pZxPQ-2s-usj",
        "outputId": "a542cc78-0dc5-441f-b0d2-4dd4d7b11d06"
      },
      "execution_count": null,
      "outputs": [
        {
          "output_type": "execute_result",
          "data": {
            "text/plain": [
              "['Kayra', 'Başar', 'Yağız', 'Talha', 'Efe', 'Ömer', 1, 2, 3, 1773]"
            ]
          },
          "metadata": {},
          "execution_count": 18
        }
      ]
    },
    {
      "cell_type": "code",
      "source": [
        "list_eestec.extend([20, 30, 40])\n",
        "\n",
        "list_eestec"
      ],
      "metadata": {
        "colab": {
          "base_uri": "https://localhost:8080/"
        },
        "id": "kwaURvXC-wtu",
        "outputId": "a2976484-ba4b-45b9-e441-b0179c7e0bfc"
      },
      "execution_count": null,
      "outputs": [
        {
          "output_type": "execute_result",
          "data": {
            "text/plain": [
              "['Kayra', 'Başar', 'Yağız', 'Talha', 'Efe', 'Ömer', 1, 2, 3, 1773, 20, 30, 40]"
            ]
          },
          "metadata": {},
          "execution_count": 19
        }
      ]
    },
    {
      "cell_type": "markdown",
      "source": [
        "**Belirli bir indexe eleman eklemek için .insert() komutunu kullanırız.**"
      ],
      "metadata": {
        "id": "JtwylZDv_N0E"
      }
    },
    {
      "cell_type": "code",
      "source": [
        "list_eestec"
      ],
      "metadata": {
        "colab": {
          "base_uri": "https://localhost:8080/"
        },
        "id": "MYE2H46B_XUD",
        "outputId": "42d0ecef-51d7-40ff-c8dc-ee4464bf5e2f"
      },
      "execution_count": null,
      "outputs": [
        {
          "output_type": "execute_result",
          "data": {
            "text/plain": [
              "['Kayra', 'Başar', 'Yağız', 'Talha', 'Efe', 'Ömer', 1, 2, 3, 1773, 20, 30, 40]"
            ]
          },
          "metadata": {},
          "execution_count": 20
        }
      ]
    },
    {
      "cell_type": "code",
      "source": [
        "list_eestec.insert(0, 19)\n",
        "\n",
        "list_eestec"
      ],
      "metadata": {
        "colab": {
          "base_uri": "https://localhost:8080/"
        },
        "id": "zowgy05u_ZON",
        "outputId": "f3cbaec4-b7fd-4ab5-8722-35e0b67bb42d"
      },
      "execution_count": null,
      "outputs": [
        {
          "output_type": "execute_result",
          "data": {
            "text/plain": [
              "[19, 'Kayra', 'Başar', 'Yağız', 'Talha', 'Efe', 'Ömer', 1, 2, 3]"
            ]
          },
          "metadata": {},
          "execution_count": 26
        }
      ]
    },
    {
      "cell_type": "markdown",
      "source": [
        "**Listeden belirli bir elemanı silmek için .remove() komutunu kullanırız. Eğer silmek istediğimiz eleman listede yoksa error verir.**"
      ],
      "metadata": {
        "id": "y6QPyvJO_02O"
      }
    },
    {
      "cell_type": "code",
      "source": [
        "list_eestec"
      ],
      "metadata": {
        "colab": {
          "base_uri": "https://localhost:8080/"
        },
        "id": "K4qRv896_-ZZ",
        "outputId": "a4cdaaec-6469-4314-9fbc-068c99045d67"
      },
      "execution_count": null,
      "outputs": [
        {
          "output_type": "execute_result",
          "data": {
            "text/plain": [
              "[19, 'Kayra', 'Başar', 'Yağız', 'Talha', 'Efe', 'Ömer', 1, 2, 3]"
            ]
          },
          "metadata": {},
          "execution_count": 27
        }
      ]
    },
    {
      "cell_type": "code",
      "source": [
        "list_eestec.remove(19)\n",
        "\n",
        "list_eestec"
      ],
      "metadata": {
        "colab": {
          "base_uri": "https://localhost:8080/"
        },
        "id": "0SpM7pRZAAAB",
        "outputId": "4a9fd0ba-c4cd-48e0-878f-42343374fe78"
      },
      "execution_count": null,
      "outputs": [
        {
          "output_type": "execute_result",
          "data": {
            "text/plain": [
              "['Kayra', 'Başar', 'Yağız', 'Talha', 'Efe', 'Ömer', 1, 2, 3]"
            ]
          },
          "metadata": {},
          "execution_count": 28
        }
      ]
    },
    {
      "cell_type": "markdown",
      "source": [
        "**Listenin belirli indexindeki elemanı silmek için .pop() komutunu kullanırız.**"
      ],
      "metadata": {
        "id": "Mz4agaLQAc6R"
      }
    },
    {
      "cell_type": "code",
      "source": [
        "list_eestec.pop(3)\n",
        "\n",
        "list_eestec"
      ],
      "metadata": {
        "colab": {
          "base_uri": "https://localhost:8080/"
        },
        "id": "vX7tLB9FAL11",
        "outputId": "0f696cf4-31b6-40db-8777-998be47e09ef"
      },
      "execution_count": null,
      "outputs": [
        {
          "output_type": "execute_result",
          "data": {
            "text/plain": [
              "['Kayra', 'Başar', 'Yağız', 'Efe', 'Ömer', 1, 2, 3]"
            ]
          },
          "metadata": {},
          "execution_count": 29
        }
      ]
    },
    {
      "cell_type": "markdown",
      "source": [
        "**Listedeki bir elemanın kaç kez tekrar ettiğini bulmak için .count() komutunu kullanırız.**"
      ],
      "metadata": {
        "id": "fKHJBvI6Axp2"
      }
    },
    {
      "cell_type": "code",
      "source": [
        "list_eestec.count(3)"
      ],
      "metadata": {
        "colab": {
          "base_uri": "https://localhost:8080/"
        },
        "id": "wkK_-_xFA43E",
        "outputId": "3334249b-ad0c-4dae-c3e8-10d396b8f4fc"
      },
      "execution_count": null,
      "outputs": [
        {
          "output_type": "execute_result",
          "data": {
            "text/plain": [
              "0"
            ]
          },
          "metadata": {},
          "execution_count": 40
        }
      ]
    },
    {
      "cell_type": "code",
      "source": [
        "list_eestec.count(\"Kayra\")"
      ],
      "metadata": {
        "colab": {
          "base_uri": "https://localhost:8080/"
        },
        "id": "UTSRZq2MDCrU",
        "outputId": "4f7a0888-0dbe-4a4f-a3e5-973cc6fcebd9"
      },
      "execution_count": null,
      "outputs": [
        {
          "output_type": "execute_result",
          "data": {
            "text/plain": [
              "1"
            ]
          },
          "metadata": {},
          "execution_count": 42
        }
      ]
    },
    {
      "cell_type": "markdown",
      "source": [
        "**Çünkü 3 sayısı listemizde string olarak yer almakta.**"
      ],
      "metadata": {
        "id": "a74Au85uA8pq"
      }
    },
    {
      "cell_type": "markdown",
      "source": [
        "**Listeyi terse çevirmek için .reverse() komutunu kullanırız.**"
      ],
      "metadata": {
        "id": "Zo5MYDSJ_48f"
      }
    },
    {
      "cell_type": "code",
      "source": [
        "list_eestec"
      ],
      "metadata": {
        "colab": {
          "base_uri": "https://localhost:8080/"
        },
        "id": "w8rUG4yGBSMM",
        "outputId": "abd533f0-293e-4e3c-a61c-d50e19f11562"
      },
      "execution_count": null,
      "outputs": [
        {
          "output_type": "execute_result",
          "data": {
            "text/plain": [
              "['Kayra', 'Başar', 'Yağız', 'Efe', 'Ömer', 1, 2, 3]"
            ]
          },
          "metadata": {},
          "execution_count": 31
        }
      ]
    },
    {
      "cell_type": "code",
      "source": [
        "list_eestec.reverse()\n",
        "\n",
        "list_eestec"
      ],
      "metadata": {
        "colab": {
          "base_uri": "https://localhost:8080/"
        },
        "id": "7btNaFz1BTg9",
        "outputId": "3a96d6e3-bab4-4bab-fa69-a6a15a6dd378"
      },
      "execution_count": null,
      "outputs": [
        {
          "output_type": "execute_result",
          "data": {
            "text/plain": [
              "['3', '2', '1', 'Ömer', 'Efe', 'Talha', 'Yağız', 'Başar', 'Kayra']"
            ]
          },
          "metadata": {},
          "execution_count": 43
        }
      ]
    },
    {
      "cell_type": "markdown",
      "source": [
        "**Listedeki elemanları küçükten büyüğe veya alfabetik olarak sıralamak için sorted() ve .sort() komutlarını kullanırız.**\n",
        "\n",
        "**Bu iki komut arasındaki fark şudur:**\n",
        "\n",
        "\n",
        "*   **sorted() komutu listeyi güncellemez.**\n",
        "*   **.sort() komutu listeyi günceller.**\n",
        "\n",
        "\n",
        "\n",
        " "
      ],
      "metadata": {
        "id": "e4nneE6nAEpZ"
      }
    },
    {
      "cell_type": "code",
      "source": [
        "list_eestec"
      ],
      "metadata": {
        "colab": {
          "base_uri": "https://localhost:8080/"
        },
        "id": "RJTxGHcXCRfG",
        "outputId": "9a4abc02-34ae-4c12-edf1-f98d0176f9f1"
      },
      "execution_count": null,
      "outputs": [
        {
          "output_type": "execute_result",
          "data": {
            "text/plain": [
              "['3', '2', '1', 'Ömer', 'Efe', 'Talha', 'Yağız', 'Başar', 'Kayra']"
            ]
          },
          "metadata": {},
          "execution_count": 44
        }
      ]
    },
    {
      "cell_type": "code",
      "source": [
        "sorted(list_eestec)"
      ],
      "metadata": {
        "colab": {
          "base_uri": "https://localhost:8080/"
        },
        "id": "p5ufHupiCTUT",
        "outputId": "3d8638bc-04dd-401b-93eb-6b5725993fe8"
      },
      "execution_count": null,
      "outputs": [
        {
          "output_type": "execute_result",
          "data": {
            "text/plain": [
              "['1', '2', '3', 'Başar', 'Efe', 'Kayra', 'Talha', 'Yağız', 'Ömer']"
            ]
          },
          "metadata": {},
          "execution_count": 45
        }
      ]
    },
    {
      "cell_type": "code",
      "source": [
        "list_eestec"
      ],
      "metadata": {
        "colab": {
          "base_uri": "https://localhost:8080/"
        },
        "id": "TpkzGWnqDP4I",
        "outputId": "2767e4b6-27c7-41a0-c0b4-b5c3ec4db6d8"
      },
      "execution_count": null,
      "outputs": [
        {
          "output_type": "execute_result",
          "data": {
            "text/plain": [
              "['3', '2', '1', 'Ömer', 'Efe', 'Talha', 'Yağız', 'Başar', 'Kayra']"
            ]
          },
          "metadata": {},
          "execution_count": 46
        }
      ]
    },
    {
      "cell_type": "code",
      "source": [
        "list_eestec.sort()\n",
        "\n",
        "list_eestec"
      ],
      "metadata": {
        "colab": {
          "base_uri": "https://localhost:8080/"
        },
        "id": "Uopv_bJBDRqz",
        "outputId": "240c841e-f7e8-498a-ff19-f585d7023770"
      },
      "execution_count": null,
      "outputs": [
        {
          "output_type": "execute_result",
          "data": {
            "text/plain": [
              "['1', '2', '3', 'Başar', 'Efe', 'Kayra', 'Talha', 'Yağız', 'Ömer']"
            ]
          },
          "metadata": {},
          "execution_count": 48
        }
      ]
    },
    {
      "cell_type": "markdown",
      "source": [
        "**Tuple**\n",
        "\n",
        "*   Tuple birden çok farklı veri tipini bir arada tutmamızı sağlar\n",
        "*   Tuple'lar listelerin aksine değiştirelemezler yani sabittirler. Buna **immutable** olma özelliği diyoruz.\n",
        "*   Değişmesini istemediğimiz değerler için Tuple kullanmak faydalıdır.\n",
        "*   İçerisinde farklı veri yapıları hatta tuple bile içerebilirler.\n",
        "\n",
        "\n",
        "\n",
        "\n",
        "\n",
        "\n",
        "\n"
      ],
      "metadata": {
        "id": "YZ2-E_PfKAFd"
      }
    },
    {
      "cell_type": "code",
      "source": [
        "itu = (1773, 2022)"
      ],
      "metadata": {
        "id": "Ylv1KjECKvnE"
      },
      "execution_count": null,
      "outputs": []
    },
    {
      "cell_type": "code",
      "source": [
        "itu[0]"
      ],
      "metadata": {
        "colab": {
          "base_uri": "https://localhost:8080/"
        },
        "id": "TXFcOXefK56G",
        "outputId": "fb666ac9-8475-443e-c2b6-e3ad1662753e"
      },
      "execution_count": null,
      "outputs": [
        {
          "output_type": "execute_result",
          "data": {
            "text/plain": [
              "1773"
            ]
          },
          "metadata": {},
          "execution_count": 50
        }
      ]
    },
    {
      "cell_type": "code",
      "source": [
        "itu[0] = 12"
      ],
      "metadata": {
        "colab": {
          "base_uri": "https://localhost:8080/",
          "height": 168
        },
        "id": "Zpo1Ti24K_Yk",
        "outputId": "d528fea4-2d67-4c35-df84-8e961c426463"
      },
      "execution_count": null,
      "outputs": [
        {
          "output_type": "error",
          "ename": "TypeError",
          "evalue": "ignored",
          "traceback": [
            "\u001b[0;31m---------------------------------------------------------------------------\u001b[0m",
            "\u001b[0;31mTypeError\u001b[0m                                 Traceback (most recent call last)",
            "\u001b[0;32m<ipython-input-51-9cf1dd9f61b2>\u001b[0m in \u001b[0;36m<module>\u001b[0;34m()\u001b[0m\n\u001b[0;32m----> 1\u001b[0;31m \u001b[0mitu\u001b[0m\u001b[0;34m[\u001b[0m\u001b[0;36m0\u001b[0m\u001b[0;34m]\u001b[0m \u001b[0;34m=\u001b[0m \u001b[0;36m12\u001b[0m\u001b[0;34m\u001b[0m\u001b[0;34m\u001b[0m\u001b[0m\n\u001b[0m",
            "\u001b[0;31mTypeError\u001b[0m: 'tuple' object does not support item assignment"
          ]
        }
      ]
    },
    {
      "cell_type": "markdown",
      "source": [
        "**Tuple'lar değiştirilemez yani sabit değerler olduğu için error verdi**"
      ],
      "metadata": {
        "id": "oKtD56gOLHFR"
      }
    },
    {
      "cell_type": "code",
      "source": [
        "eestec = (1, 5, 7, \"Ahmet\", \"Kayra\", (\"Hello\", \"World!\"))"
      ],
      "metadata": {
        "id": "V3G5k8csLM0_"
      },
      "execution_count": null,
      "outputs": []
    },
    {
      "cell_type": "code",
      "source": [
        "eestec"
      ],
      "metadata": {
        "colab": {
          "base_uri": "https://localhost:8080/"
        },
        "id": "IljtBjR-LUy9",
        "outputId": "8f4fed7e-6519-49ab-ac62-8b1161162cea"
      },
      "execution_count": null,
      "outputs": [
        {
          "output_type": "execute_result",
          "data": {
            "text/plain": [
              "(1, 5, 7, 'Ahmet', 'Kayra', ('Hello', 'World!'))"
            ]
          },
          "metadata": {},
          "execution_count": 56
        }
      ]
    },
    {
      "cell_type": "markdown",
      "source": [
        "**Elemanları değiştirmek istiyorsam:**\n",
        "\n",
        "*   Elemanları tuple aracılığıyla rahatlıkla değiştirebilirim.\n",
        "\n"
      ],
      "metadata": {
        "id": "6mmWLuJXLr0c"
      }
    },
    {
      "cell_type": "code",
      "source": [
        "a = 5\n",
        "b = 7"
      ],
      "metadata": {
        "id": "LWxB9NxELwjq"
      },
      "execution_count": null,
      "outputs": []
    },
    {
      "cell_type": "code",
      "source": [
        "(a, b) = (b, a)"
      ],
      "metadata": {
        "id": "ZoZhk1MzL7C5"
      },
      "execution_count": null,
      "outputs": []
    },
    {
      "cell_type": "code",
      "source": [
        "a"
      ],
      "metadata": {
        "colab": {
          "base_uri": "https://localhost:8080/"
        },
        "id": "1oiBN09nL934",
        "outputId": "c1524fa5-1461-45d5-90e2-fb5d425ce06a"
      },
      "execution_count": null,
      "outputs": [
        {
          "output_type": "execute_result",
          "data": {
            "text/plain": [
              "7"
            ]
          },
          "metadata": {},
          "execution_count": 59
        }
      ]
    },
    {
      "cell_type": "code",
      "source": [
        "b"
      ],
      "metadata": {
        "colab": {
          "base_uri": "https://localhost:8080/"
        },
        "id": "PTN_cIwdL_fN",
        "outputId": "275feb70-6eb2-4652-999d-a20ccae7a656"
      },
      "execution_count": null,
      "outputs": [
        {
          "output_type": "execute_result",
          "data": {
            "text/plain": [
              "5"
            ]
          },
          "metadata": {},
          "execution_count": 60
        }
      ]
    },
    {
      "cell_type": "markdown",
      "source": [
        "**Parantez koymasak bile Python programlama dili otomatik olarak tuple olarak algılıyor.**"
      ],
      "metadata": {
        "id": "x4iwniPuMOp-"
      }
    },
    {
      "cell_type": "code",
      "source": [
        "c = 1, 3, 5, 7"
      ],
      "metadata": {
        "id": "1yPRc9AcMVdT"
      },
      "execution_count": null,
      "outputs": []
    },
    {
      "cell_type": "code",
      "source": [
        "c"
      ],
      "metadata": {
        "colab": {
          "base_uri": "https://localhost:8080/"
        },
        "id": "49LIB5FwMY57",
        "outputId": "ac7ee43b-6b7a-46e5-f8e2-e670b914e63f"
      },
      "execution_count": null,
      "outputs": [
        {
          "output_type": "execute_result",
          "data": {
            "text/plain": [
              "(1, 3, 5, 7)"
            ]
          },
          "metadata": {},
          "execution_count": 62
        }
      ]
    },
    {
      "cell_type": "code",
      "source": [
        "type(c)"
      ],
      "metadata": {
        "colab": {
          "base_uri": "https://localhost:8080/"
        },
        "id": "SZtxHAIhMbKu",
        "outputId": "1fb5aaf1-929a-46a3-c924-f096cda192f0"
      },
      "execution_count": null,
      "outputs": [
        {
          "output_type": "execute_result",
          "data": {
            "text/plain": [
              "tuple"
            ]
          },
          "metadata": {},
          "execution_count": 63
        }
      ]
    },
    {
      "cell_type": "markdown",
      "source": [
        "**Bu yüzden değerleri değiştirmek için de parantez kullanmamıza gerek kalmaz**"
      ],
      "metadata": {
        "id": "ExZdx57HMncA"
      }
    },
    {
      "cell_type": "code",
      "source": [
        "q = 3\n",
        "w = 5"
      ],
      "metadata": {
        "id": "vUS1qbZ7Mrzj"
      },
      "execution_count": null,
      "outputs": []
    },
    {
      "cell_type": "code",
      "source": [
        "q, w = w, q"
      ],
      "metadata": {
        "id": "65gjzNg-Mwb9"
      },
      "execution_count": null,
      "outputs": []
    },
    {
      "cell_type": "code",
      "source": [
        "q"
      ],
      "metadata": {
        "colab": {
          "base_uri": "https://localhost:8080/"
        },
        "id": "ONkSCj4HMySq",
        "outputId": "c18b3d2d-c438-4c03-e1d3-a04a49d087ed"
      },
      "execution_count": null,
      "outputs": [
        {
          "output_type": "execute_result",
          "data": {
            "text/plain": [
              "5"
            ]
          },
          "metadata": {},
          "execution_count": 66
        }
      ]
    },
    {
      "cell_type": "code",
      "source": [
        "w"
      ],
      "metadata": {
        "colab": {
          "base_uri": "https://localhost:8080/"
        },
        "id": "K-sRGFqTMzXu",
        "outputId": "571c0387-eed6-441a-e9f6-c10458977380"
      },
      "execution_count": null,
      "outputs": [
        {
          "output_type": "execute_result",
          "data": {
            "text/plain": [
              "3"
            ]
          },
          "metadata": {},
          "execution_count": 67
        }
      ]
    },
    {
      "cell_type": "markdown",
      "source": [
        "**Dictionary**\n",
        "\n",
        "*   Dictionary hayatımızı birçok alanda kolaylaştırmaktadır.\n",
        "Örneğin;\n",
        "\n",
        "*   Bir araba galerisinde her arabaya ait farklı fiyatlandırmalar var.\n",
        "*   Biz bu fiyatlandırmaları her arabaya farklı değerleri atamak için yeni bir liste oluşturmamız gerekir.\n",
        "\n",
        "*   Hem araba modelleri hem de fiyatlar için 2 farklı liste olacaktır.\n",
        "*   Bu işlemi gerçekleştirmenin kısa yolu dictionary kullanmaktır.\n",
        "\n",
        "**Gelin, size örneklerle açıklayalım.**\n",
        "\n",
        "\n",
        "\n",
        "\n",
        "\n",
        "\n",
        "\n"
      ],
      "metadata": {
        "id": "4UVly8FVPaSE"
      }
    },
    {
      "cell_type": "code",
      "source": [
        "fiyatlar = {\"Audi\": 10, \"Mercedes\": 20, \"Volkswagen\": 30}"
      ],
      "metadata": {
        "id": "t4MHTLBuQbn6"
      },
      "execution_count": null,
      "outputs": []
    },
    {
      "cell_type": "markdown",
      "source": [
        "**Audi'nin fiyatını öğrenmek için:**"
      ],
      "metadata": {
        "id": "qECBn7nVQrE6"
      }
    },
    {
      "cell_type": "code",
      "source": [
        "fiyatlar[\"Audi\"]"
      ],
      "metadata": {
        "colab": {
          "base_uri": "https://localhost:8080/"
        },
        "id": "JyMC1_GqQp8F",
        "outputId": "b3084a26-1d3f-478f-aae4-029352556d8a"
      },
      "execution_count": null,
      "outputs": [
        {
          "output_type": "execute_result",
          "data": {
            "text/plain": [
              "10"
            ]
          },
          "metadata": {},
          "execution_count": 71
        }
      ]
    },
    {
      "cell_type": "markdown",
      "source": [
        "**Bu işlemi daha da spesifik bir şekilde yazabiliriz.**"
      ],
      "metadata": {
        "id": "tIY9eoUcQ35m"
      }
    },
    {
      "cell_type": "code",
      "source": [
        "arabalar = {\"Audi\": {\"fiyat\":10, \"yıl\": 2002}, \"Mercedes\": {\"fiyat\":20, \"yıl\": 2008}, \"Volkswagen\": {\"fiyat\":30, \"yıl\": 2010}}"
      ],
      "metadata": {
        "id": "yVuCeo2FRUqP"
      },
      "execution_count": null,
      "outputs": []
    },
    {
      "cell_type": "code",
      "source": [
        "arabalar[\"Audi\"][\"fiyat\"]"
      ],
      "metadata": {
        "colab": {
          "base_uri": "https://localhost:8080/"
        },
        "id": "q4f7rVpdRpMs",
        "outputId": "d26cd912-379d-43b9-b2af-ef9d369c0559"
      },
      "execution_count": null,
      "outputs": [
        {
          "output_type": "execute_result",
          "data": {
            "text/plain": [
              "10"
            ]
          },
          "metadata": {},
          "execution_count": 73
        }
      ]
    },
    {
      "cell_type": "code",
      "source": [
        "arabalar[\"Audi\"][\"yıl\"]"
      ],
      "metadata": {
        "colab": {
          "base_uri": "https://localhost:8080/"
        },
        "id": "JSfM8A3XRvJ8",
        "outputId": "3714679f-aaf0-4d85-fcc3-81b7cc2fe6ee"
      },
      "execution_count": null,
      "outputs": [
        {
          "output_type": "execute_result",
          "data": {
            "text/plain": [
              "2002"
            ]
          },
          "metadata": {},
          "execution_count": 74
        }
      ]
    },
    {
      "cell_type": "markdown",
      "source": [
        "**Dictionary key:value sistemi ile çalıştığı için index sorgusu yapamayız.**\n",
        "**Örneğin;**"
      ],
      "metadata": {
        "id": "ffEStVsySVS9"
      }
    },
    {
      "cell_type": "code",
      "source": [
        "arabalar[0]"
      ],
      "metadata": {
        "colab": {
          "base_uri": "https://localhost:8080/",
          "height": 168
        },
        "id": "uSAiwu1tSkDS",
        "outputId": "a11d5314-007d-46b8-b3fa-1ef1af6b5bee"
      },
      "execution_count": null,
      "outputs": [
        {
          "output_type": "error",
          "ename": "KeyError",
          "evalue": "ignored",
          "traceback": [
            "\u001b[0;31m---------------------------------------------------------------------------\u001b[0m",
            "\u001b[0;31mKeyError\u001b[0m                                  Traceback (most recent call last)",
            "\u001b[0;32m<ipython-input-75-dd7b097758cc>\u001b[0m in \u001b[0;36m<module>\u001b[0;34m()\u001b[0m\n\u001b[0;32m----> 1\u001b[0;31m \u001b[0marabalar\u001b[0m\u001b[0;34m[\u001b[0m\u001b[0;36m0\u001b[0m\u001b[0;34m]\u001b[0m\u001b[0;34m\u001b[0m\u001b[0;34m\u001b[0m\u001b[0m\n\u001b[0m",
            "\u001b[0;31mKeyError\u001b[0m: 0"
          ]
        }
      ]
    },
    {
      "cell_type": "markdown",
      "source": [
        "**Arabalar dictionary'sinde \"0\" adlı bir key olmadığı için error verdi.**"
      ],
      "metadata": {
        "id": "oGZReUemSmAV"
      }
    },
    {
      "cell_type": "markdown",
      "source": [
        "**Arabanın fiyatını değiştirmek istersek:**"
      ],
      "metadata": {
        "id": "7WSX0OCPTGG_"
      }
    },
    {
      "cell_type": "code",
      "source": [
        "arabalar[\"Audi\"][\"fiyat\"] = arabalar[\"Audi\"][\"fiyat\"] + 5"
      ],
      "metadata": {
        "id": "gxlVpphdTKNO"
      },
      "execution_count": null,
      "outputs": []
    },
    {
      "cell_type": "code",
      "source": [
        "arabalar[\"Audi\"][\"fiyat\"]"
      ],
      "metadata": {
        "colab": {
          "base_uri": "https://localhost:8080/"
        },
        "id": "KGVXphZ1TQ4t",
        "outputId": "54aa42d6-35aa-4ede-a25a-32ccfc597e03"
      },
      "execution_count": null,
      "outputs": [
        {
          "output_type": "execute_result",
          "data": {
            "text/plain": [
              "15"
            ]
          },
          "metadata": {},
          "execution_count": 77
        }
      ]
    },
    {
      "cell_type": "code",
      "source": [
        "arabalar"
      ],
      "metadata": {
        "colab": {
          "base_uri": "https://localhost:8080/"
        },
        "id": "wlV5pms1TT-F",
        "outputId": "a6b32a4e-1740-4ec9-c221-a6c584f582a9"
      },
      "execution_count": null,
      "outputs": [
        {
          "output_type": "execute_result",
          "data": {
            "text/plain": [
              "{'Audi': {'fiyat': 15, 'yıl': 2002},\n",
              " 'Mercedes': {'fiyat': 20, 'yıl': 2008},\n",
              " 'Volkswagen': {'fiyat': 30, 'yıl': 2010}}"
            ]
          },
          "metadata": {},
          "execution_count": 78
        }
      ]
    },
    {
      "cell_type": "markdown",
      "source": [
        "**len() komutu bize dictionary'deki key sayısını verir.**"
      ],
      "metadata": {
        "id": "XxEOZTMcTX9R"
      }
    },
    {
      "cell_type": "code",
      "source": [
        "len(arabalar)"
      ],
      "metadata": {
        "colab": {
          "base_uri": "https://localhost:8080/"
        },
        "id": "CU-snH6JTdcX",
        "outputId": "8f992239-d5e0-47f4-d404-ddbb2748743e"
      },
      "execution_count": null,
      "outputs": [
        {
          "output_type": "execute_result",
          "data": {
            "text/plain": [
              "3"
            ]
          },
          "metadata": {},
          "execution_count": 79
        }
      ]
    },
    {
      "cell_type": "markdown",
      "source": [
        "**Bir dictionary'e eleman eklemek çok basittir.**"
      ],
      "metadata": {
        "id": "k997A0ewTllo"
      }
    },
    {
      "cell_type": "code",
      "source": [
        "fiyatlar = {\"Audi\": 10, \"Mercedes\": 20, \"Volkswagen\": 30}"
      ],
      "metadata": {
        "id": "5TWYto56Tp1b"
      },
      "execution_count": null,
      "outputs": []
    },
    {
      "cell_type": "code",
      "source": [
        "fiyatlar[\"TOGG\"] = 50"
      ],
      "metadata": {
        "id": "Fnm4KICtT88u"
      },
      "execution_count": null,
      "outputs": []
    },
    {
      "cell_type": "code",
      "source": [
        "fiyatlar"
      ],
      "metadata": {
        "colab": {
          "base_uri": "https://localhost:8080/"
        },
        "id": "xfSurOKXUI85",
        "outputId": "84c20dee-7872-4da6-f210-41984d959aa9"
      },
      "execution_count": null,
      "outputs": [
        {
          "output_type": "execute_result",
          "data": {
            "text/plain": [
              "{'Audi': 10, 'Mercedes': 20, 'TOGG': 50, 'Volkswagen': 30}"
            ]
          },
          "metadata": {},
          "execution_count": 86
        }
      ]
    },
    {
      "cell_type": "markdown",
      "source": [
        "**Bir dictionary'den eleman silmek için del komutu kullanılmalıdır.**"
      ],
      "metadata": {
        "id": "1v45d2ONUQY2"
      }
    },
    {
      "cell_type": "code",
      "source": [
        "del fiyatlar[\"TOGG\"]"
      ],
      "metadata": {
        "id": "-Us_oJ-3UUyX"
      },
      "execution_count": null,
      "outputs": []
    },
    {
      "cell_type": "code",
      "source": [
        "fiyatlar"
      ],
      "metadata": {
        "colab": {
          "base_uri": "https://localhost:8080/"
        },
        "id": "S5Lfb1UNUYpH",
        "outputId": "97891cbd-0041-48ea-9641-ac0bb0776b12"
      },
      "execution_count": null,
      "outputs": [
        {
          "output_type": "execute_result",
          "data": {
            "text/plain": [
              "{'Audi': 10, 'Mercedes': 20, 'Volkswagen': 30}"
            ]
          },
          "metadata": {},
          "execution_count": 88
        }
      ]
    },
    {
      "cell_type": "markdown",
      "source": [
        "**Bir dictionary'de sadece immutable yapıdaki veriler key olabilir.**\n",
        "**Eğer mutable bir değer verirsek error verir.**"
      ],
      "metadata": {
        "id": "IC1audpyVBVP"
      }
    },
    {
      "cell_type": "code",
      "source": [
        "d = {[1, 2]: 3}"
      ],
      "metadata": {
        "colab": {
          "base_uri": "https://localhost:8080/",
          "height": 168
        },
        "id": "w0yb7a9-VG-h",
        "outputId": "88eec52f-4f16-4358-bb35-016ab97042f0"
      },
      "execution_count": null,
      "outputs": [
        {
          "output_type": "error",
          "ename": "TypeError",
          "evalue": "ignored",
          "traceback": [
            "\u001b[0;31m---------------------------------------------------------------------------\u001b[0m",
            "\u001b[0;31mTypeError\u001b[0m                                 Traceback (most recent call last)",
            "\u001b[0;32m<ipython-input-89-bf7f06622b3f>\u001b[0m in \u001b[0;36m<module>\u001b[0;34m()\u001b[0m\n\u001b[0;32m----> 1\u001b[0;31m \u001b[0md\u001b[0m \u001b[0;34m=\u001b[0m \u001b[0;34m{\u001b[0m\u001b[0;34m[\u001b[0m\u001b[0;36m1\u001b[0m\u001b[0;34m,\u001b[0m \u001b[0;36m2\u001b[0m\u001b[0;34m]\u001b[0m\u001b[0;34m:\u001b[0m \u001b[0;36m3\u001b[0m\u001b[0;34m}\u001b[0m\u001b[0;34m\u001b[0m\u001b[0;34m\u001b[0m\u001b[0m\n\u001b[0m",
            "\u001b[0;31mTypeError\u001b[0m: unhashable type: 'list'"
          ]
        }
      ]
    },
    {
      "cell_type": "markdown",
      "source": [
        "**Boş bir dictionary yaratarak içine veriler ekleyebiliriz.**"
      ],
      "metadata": {
        "id": "DUq1ChTdVWTZ"
      }
    },
    {
      "cell_type": "code",
      "source": [
        "d1 = {}"
      ],
      "metadata": {
        "id": "gys5oQqpVcuz"
      },
      "execution_count": null,
      "outputs": []
    },
    {
      "cell_type": "code",
      "source": [
        "d1[\"Başar\"] = \"Çelebi\""
      ],
      "metadata": {
        "id": "oVfjMj5RVeoD"
      },
      "execution_count": null,
      "outputs": []
    },
    {
      "cell_type": "code",
      "source": [
        "d1"
      ],
      "metadata": {
        "colab": {
          "base_uri": "https://localhost:8080/"
        },
        "id": "Dpkn3KtXVjc1",
        "outputId": "f2816ef7-b0ba-4d14-943b-11a19b23988c"
      },
      "execution_count": null,
      "outputs": [
        {
          "output_type": "execute_result",
          "data": {
            "text/plain": [
              "{'Başar': 'Çelebi'}"
            ]
          },
          "metadata": {},
          "execution_count": 93
        }
      ]
    },
    {
      "cell_type": "markdown",
      "source": [
        "**Bir elemanın key değerleri içerisinde olup olmadığını sorgulamak için in komutu kullanırız.**"
      ],
      "metadata": {
        "id": "5y6mSc3CVrzX"
      }
    },
    {
      "cell_type": "code",
      "source": [
        "\"Başar\" in d1"
      ],
      "metadata": {
        "colab": {
          "base_uri": "https://localhost:8080/"
        },
        "id": "KKAl1F04VrK1",
        "outputId": "6081f3fe-1742-4824-9f97-e8502aba9c5b"
      },
      "execution_count": null,
      "outputs": [
        {
          "output_type": "execute_result",
          "data": {
            "text/plain": [
              "True"
            ]
          },
          "metadata": {},
          "execution_count": 94
        }
      ]
    },
    {
      "cell_type": "code",
      "source": [
        "\"Volvo\" in fiyatlar"
      ],
      "metadata": {
        "colab": {
          "base_uri": "https://localhost:8080/"
        },
        "id": "LUjf6bR7V1LS",
        "outputId": "3fe8e6cb-7b08-4383-f30f-1ea2d041fb42"
      },
      "execution_count": null,
      "outputs": [
        {
          "output_type": "execute_result",
          "data": {
            "text/plain": [
              "False"
            ]
          },
          "metadata": {},
          "execution_count": 95
        }
      ]
    }
  ]
}